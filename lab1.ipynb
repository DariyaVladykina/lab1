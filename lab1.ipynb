{
 "cells": [
  {
   "cell_type": "code",
   "execution_count": 3,
   "metadata": {},
   "outputs": [
    {
     "name": "stdout",
     "output_type": "stream",
     "text": [
      "Дунай\n"
     ]
    }
   ],
   "source": [
    "horse_list=['Карат','Ванилин','Соборович','Дунай','Богучар','Тимоша'] #список\n",
    "print(horse_list[3])"
   ]
  },
  {
   "cell_type": "code",
   "execution_count": 6,
   "metadata": {},
   "outputs": [
    {
     "name": "stdout",
     "output_type": "stream",
     "text": [
      "koni_list:\n",
      "['Карат', 'Ванилин', 'Соборович', 'Дунай', 'Богучар', 'Тимоша', 'Пепел', 'Кузя', 'Лимон', 'Пряник']\n"
     ]
    }
   ],
   "source": [
    "poni_list=['Кузя','Лимон','Пряник'] \n",
    "res=horse_list+poni_list #объединение списков\n",
    "print (\"koni_list:\\n\" + str(res))"
   ]
  },
  {
   "cell_type": "code",
   "execution_count": 13,
   "metadata": {},
   "outputs": [
    {
     "name": "stdout",
     "output_type": "stream",
     "text": [
      "['Карат', 'Ванилин', 'Соборович', 'Дунай', 'Богучар', 'Тимоша', 'Пепел', 'Пепел', 'Пепел', 'Пепел', 'Пепел', 'Пепел', 'Пепел']\n"
     ]
    }
   ],
   "source": [
    "horse_list.append('Пепел') #добавление элемента в список\n",
    "print(horse_list)"
   ]
  },
  {
   "cell_type": "code",
   "execution_count": 8,
   "metadata": {},
   "outputs": [
    {
     "name": "stdout",
     "output_type": "stream",
     "text": [
      "('конкур', 'выездка', 'троеборье', 'скачки')\n"
     ]
    }
   ],
   "source": [
    "sports_tuple = ('конкур', 'выездка','троеборье','скачки') #кортеж\n",
    "print(sports_tuple)"
   ]
  },
  {
   "cell_type": "code",
   "execution_count": 29,
   "metadata": {},
   "outputs": [
    {
     "name": "stdout",
     "output_type": "stream",
     "text": [
      "{'пони', 'вятская', 'орловская', 'полупони', 'помесь'}\n"
     ]
    }
   ],
   "source": [
    "breed_list=('орловская','полупони','вятская','помесь','помесь','пони','пони')\n",
    "unique_breed_list=set(breed_list) #получение множества из списка\n",
    "print(unique_breed_list)"
   ]
  },
  {
   "cell_type": "code",
   "execution_count": 31,
   "metadata": {},
   "outputs": [
    {
     "name": "stdout",
     "output_type": "stream",
     "text": [
      "{'Name': 'Тимоша', 'breed': 'помесь', 'sports': 'конкур', 'color': 'вороная'}\n"
     ]
    }
   ],
   "source": [
    "dict={\n",
    "    'Name':'Тимоша',\n",
    "    'breed':'помесь',\n",
    "    'sports':'конкур',\n",
    "    'color':'вороная'\n",
    "}#словарь\n",
    "print(dict)\n"
   ]
  }
 ],
 "metadata": {
  "kernelspec": {
   "display_name": "Python 3.10.7 64-bit",
   "language": "python",
   "name": "python3"
  },
  "language_info": {
   "codemirror_mode": {
    "name": "ipython",
    "version": 3
   },
   "file_extension": ".py",
   "mimetype": "text/x-python",
   "name": "python",
   "nbconvert_exporter": "python",
   "pygments_lexer": "ipython3",
   "version": "3.10.7"
  },
  "orig_nbformat": 4,
  "vscode": {
   "interpreter": {
    "hash": "26de051ba29f2982a8de78e945f0abaf191376122a1563185a90213a26c5da77"
   }
  }
 },
 "nbformat": 4,
 "nbformat_minor": 2
}
